{
 "cells": [
  {
   "cell_type": "code",
   "execution_count": 20,
   "metadata": {},
   "outputs": [],
   "source": [
    "#!pip install beautifulsoup4==4.9.3\n",
    "#!pip install openpyxl"
   ]
  },
  {
   "cell_type": "code",
   "execution_count": 29,
   "metadata": {
    "scrolled": true
   },
   "outputs": [],
   "source": [
    "import requests\n",
    "from bs4 import BeautifulSoup\n",
    "\n",
    "import time\n",
    "\n",
    "import pandas as pd\n",
    "\n",
    "from datetime import datetime"
   ]
  },
  {
   "cell_type": "code",
   "execution_count": 3,
   "metadata": {},
   "outputs": [
    {
     "name": "stdout",
     "output_type": "stream",
     "text": [
      "1\n"
     ]
    }
   ],
   "source": [
    "max_page_num = int(input())"
   ]
  },
  {
   "cell_type": "code",
   "execution_count": 4,
   "metadata": {},
   "outputs": [],
   "source": [
    "urls_list = []\n",
    "titles = []\n",
    "articles = []\n",
    "comments = []\n",
    "for now_page_num in range(1,max_page_num+1):\n",
    "    try:\n",
    "        url = \"https://gall.dcinside.com/mgallery/board/lists/?id=dbd&page=\" + str(now_page_num)\n",
    "        headers = {'User-Agent':'Mozilla/5.0 (X11; Linux x86_64) AppleWebKit/537.36 (KHTML, like Gecko) Chrome/91.0.4472.101 Safari/537.36'}\n",
    "        web = requests.get(url, headers=headers).content\n",
    "        source = BeautifulSoup(web,'html.parser')\n",
    "\n",
    "        # 글들 추려내기\n",
    "        for urls in source.find_all('td', {'class','gall_tit ub-word'}):\n",
    "            for urls2 in urls.find_all('a'):\n",
    "                if urls2['href'].startswith(\"https://gall.dcinside.com/mgallery/board/view/?id=dbd&no=\"):\n",
    "                    url_str = urls2['href'].replace('&t=cv',\"\")\n",
    "                    urls_list.append(url_str)\n",
    "    \n",
    "    except:\n",
    "        print(\"다음 게시글의 링크 스크랩 중 오류 발생: {}\".format(url))\n",
    "    \n",
    "    # 게시글 제목\n",
    "    for url in urls_list:\n",
    "        headers = {'User-Agent':'Mozilla/5.0 (X11; Linux x86_64) AppleWebKit/537.36 (KHTML, like Gecko) Chrome/91.0.4472.101 Safari/537.36'}\n",
    "        web = requests.get(url, headers=headers).content\n",
    "        source = BeautifulSoup(web,'html.parser')\n",
    "        data_text = source.find('div',{'class':'write_div'}).get_text();\n",
    "        data_text = data_text.replace(\"\\n\",\"\")\n",
    "        data_text = data_text.replace(\"\\t\",\"\")\n",
    "        data_text = data_text.replace(\"\\xa0\",\"\")\n",
    "        articles.append(data_text)\n",
    "        print(data_text)\n",
    "    \n",
    "    time.sleep(5)"
   ]
  },
  {
   "cell_type": "code",
   "execution_count": 30,
   "metadata": {
    "scrolled": true
   },
   "outputs": [
    {
     "data": {
      "text/html": [
       "<div>\n",
       "<style scoped>\n",
       "    .dataframe tbody tr th:only-of-type {\n",
       "        vertical-align: middle;\n",
       "    }\n",
       "\n",
       "    .dataframe tbody tr th {\n",
       "        vertical-align: top;\n",
       "    }\n",
       "\n",
       "    .dataframe thead th {\n",
       "        text-align: right;\n",
       "    }\n",
       "</style>\n",
       "<table border=\"1\" class=\"dataframe\">\n",
       "  <thead>\n",
       "    <tr style=\"text-align: right;\">\n",
       "      <th></th>\n",
       "      <th>Title</th>\n",
       "      <th>Article</th>\n",
       "    </tr>\n",
       "  </thead>\n",
       "  <tbody>\n",
       "    <tr>\n",
       "      <th>0</th>\n",
       "      <td>[데바데 패치, 이벤트, 할인, 코드, 신전]</td>\n",
       "      <td>■ 새 소식개발자 업데이트 - 부정 행위 보고서 - 22.09.24 / 한 영(NE...</td>\n",
       "    </tr>\n",
       "    <tr>\n",
       "      <th>1</th>\n",
       "      <td>[데바데 마이너 갤러리 종합 정보 모음]</td>\n",
       "      <td>살인마퍽애드온생존자퍽아이템 &amp; 애드온공물 정보생존자살인마공용플레이 팁글 모음기타 팁...</td>\n",
       "    </tr>\n",
       "    <tr>\n",
       "      <th>2</th>\n",
       "      <td>[데바데 마이너 갤러리 이용 가이드]</td>\n",
       "      <td>1. 광고, 거래글, 어그로, 분탕, 도배⦁ 어그로 및 분탕은 완장 주관 및 갤 상...</td>\n",
       "    </tr>\n",
       "    <tr>\n",
       "      <th>3</th>\n",
       "      <td>[데망호 &amp; 블포작 디코 서버 링크]</td>\n",
       "      <td>또는 링크(클릭)또는 링크(클릭)</td>\n",
       "    </tr>\n",
       "    <tr>\n",
       "      <th>4</th>\n",
       "      <td>[핵쟁이 신고방법 및 신고하기]</td>\n",
       "      <td>https://support.deadbydaylight.com/hc/en-us/re...</td>\n",
       "    </tr>\n",
       "  </tbody>\n",
       "</table>\n",
       "</div>"
      ],
      "text/plain": [
       "                       Title  \\\n",
       "0  [데바데 패치, 이벤트, 할인, 코드, 신전]   \n",
       "1     [데바데 마이너 갤러리 종합 정보 모음]   \n",
       "2       [데바데 마이너 갤러리 이용 가이드]   \n",
       "3       [데망호 & 블포작 디코 서버 링크]   \n",
       "4          [핵쟁이 신고방법 및 신고하기]   \n",
       "\n",
       "                                             Article  \n",
       "0  ■ 새 소식개발자 업데이트 - 부정 행위 보고서 - 22.09.24 / 한 영(NE...  \n",
       "1  살인마퍽애드온생존자퍽아이템 & 애드온공물 정보생존자살인마공용플레이 팁글 모음기타 팁...  \n",
       "2  1. 광고, 거래글, 어그로, 분탕, 도배⦁ 어그로 및 분탕은 완장 주관 및 갤 상...  \n",
       "3                                 또는 링크(클릭)또는 링크(클릭)  \n",
       "4  https://support.deadbydaylight.com/hc/en-us/re...  "
      ]
     },
     "execution_count": 30,
     "metadata": {},
     "output_type": "execute_result"
    }
   ],
   "source": [
    "# 게시글 및 본문 엑셀 파일 저장\n",
    "article_df = pd.DataFrame({'Title':titles,'Article':articles})\n",
    "from openpyxl import Workbook\n",
    "article_df.to_excel('result_{}.xlsx'.format(datetime.now().strftime('%y%m%d_%H%M'),index=False,encoding='utf-8'))\n",
    "article_df.head()"
   ]
  },
  {
   "cell_type": "code",
   "execution_count": null,
   "metadata": {},
   "outputs": [],
   "source": []
  }
 ],
 "metadata": {
  "kernelspec": {
   "display_name": "Python 3",
   "language": "python",
   "name": "python3"
  },
  "language_info": {
   "codemirror_mode": {
    "name": "ipython",
    "version": 3
   },
   "file_extension": ".py",
   "mimetype": "text/x-python",
   "name": "python",
   "nbconvert_exporter": "python",
   "pygments_lexer": "ipython3",
   "version": "3.7.4"
  }
 },
 "nbformat": 4,
 "nbformat_minor": 4
}
