{
 "cells": [
  {
   "cell_type": "code",
   "execution_count": 21,
   "metadata": {},
   "outputs": [],
   "source": [
    "#!pip install konlpy==0.5.2\n",
    "#!pip install nltk==3.6.1\n",
    "#!pip install Jpype1\n",
    "#!pip install tweepy==3.10.0\n",
    "#!pip install xlrd"
   ]
  },
  {
   "cell_type": "code",
   "execution_count": 12,
   "metadata": {},
   "outputs": [
    {
     "name": "stderr",
     "output_type": "stream",
     "text": [
      "[nltk_data] Downloading package punkt to /root/nltk_data...\n",
      "[nltk_data]   Unzipping tokenizers/punkt.zip.\n"
     ]
    },
    {
     "data": {
      "text/plain": [
       "True"
      ]
     },
     "execution_count": 12,
     "metadata": {},
     "output_type": "execute_result"
    }
   ],
   "source": [
    "import nltk\n",
    "nltk.download('punkt')"
   ]
  },
  {
   "cell_type": "code",
   "execution_count": 13,
   "metadata": {},
   "outputs": [
    {
     "data": {
      "text/plain": [
       "['NLTK',\n",
       " 'is',\n",
       " 'a',\n",
       " 'leading',\n",
       " 'platform',\n",
       " 'for',\n",
       " 'building',\n",
       " 'Python',\n",
       " 'programs',\n",
       " 'to']"
      ]
     },
     "execution_count": 13,
     "metadata": {},
     "output_type": "execute_result"
    }
   ],
   "source": [
    "sentence = \"NLTK is a leading platform for building Python programs to work with human language data.\"\n",
    "\n",
    "# 각 문장을 토큰화 한 결과를 출력\n",
    "nltk.word_tokenize(sentence)[:10]"
   ]
  },
  {
   "cell_type": "code",
   "execution_count": 9,
   "metadata": {},
   "outputs": [
    {
     "name": "stdout",
     "output_type": "stream",
     "text": [
      "[('아버지', 'Noun'), ('가방', 'Noun'), ('에', 'Josa'), ('들어가다', 'Verb'), ('.', 'Punctuation')]\n"
     ]
    }
   ],
   "source": [
    "# Konlpy 테스트 (라이브러리가 정상적으로 작동하는지 확인)\n",
    "from konlpy.tag import Okt\n",
    "\n",
    "tokenizer = Okt()\n",
    "tokens = tokenizer.pos(\"아버지 가방에 들어가신다.\", norm=True,stem=True)\n",
    "print(tokens)"
   ]
  },
  {
   "cell_type": "code",
   "execution_count": 5,
   "metadata": {},
   "outputs": [],
   "source": [
    "# 2. 크롤링 데이터 전처리\n",
    "import numpy as np\n",
    "import pandas as pd"
   ]
  },
  {
   "cell_type": "code",
   "execution_count": 26,
   "metadata": {},
   "outputs": [
    {
     "data": {
      "text/html": [
       "<div>\n",
       "<style scoped>\n",
       "    .dataframe tbody tr th:only-of-type {\n",
       "        vertical-align: middle;\n",
       "    }\n",
       "\n",
       "    .dataframe tbody tr th {\n",
       "        vertical-align: top;\n",
       "    }\n",
       "\n",
       "    .dataframe thead th {\n",
       "        text-align: right;\n",
       "    }\n",
       "</style>\n",
       "<table border=\"1\" class=\"dataframe\">\n",
       "  <thead>\n",
       "    <tr style=\"text-align: right;\">\n",
       "      <th></th>\n",
       "      <th>Unnamed: 0</th>\n",
       "      <th>Title</th>\n",
       "      <th>Article</th>\n",
       "    </tr>\n",
       "  </thead>\n",
       "  <tbody>\n",
       "    <tr>\n",
       "      <th>0</th>\n",
       "      <td>0</td>\n",
       "      <td>&lt;span class=\"title_subject\"&gt;데바데 패치, 이벤트, 할인, 코...</td>\n",
       "      <td>■ 새 소식개발자 업데이트 - 부정 행위 보고서 - 22.09.24 / 한 영(NE...</td>\n",
       "    </tr>\n",
       "    <tr>\n",
       "      <th>1</th>\n",
       "      <td>1</td>\n",
       "      <td>&lt;span class=\"title_subject\"&gt;데바데 마이너 갤러리 종합 정보 ...</td>\n",
       "      <td>살인마퍽애드온생존자퍽아이템 &amp; 애드온공물 정보생존자살인마공용플레이 팁글 모음기타 팁...</td>\n",
       "    </tr>\n",
       "    <tr>\n",
       "      <th>2</th>\n",
       "      <td>2</td>\n",
       "      <td>&lt;span class=\"title_subject\"&gt;데바데 마이너 갤러리 이용 가이드...</td>\n",
       "      <td>1. 광고, 거래글, 어그로, 분탕, 도배⦁ 어그로 및 분탕은 완장 주관 및 갤 상...</td>\n",
       "    </tr>\n",
       "    <tr>\n",
       "      <th>3</th>\n",
       "      <td>3</td>\n",
       "      <td>&lt;span class=\"title_subject\"&gt;데망호 &amp;amp; 블포작 디코 서...</td>\n",
       "      <td>또는 링크(클릭)또는 링크(클릭)</td>\n",
       "    </tr>\n",
       "    <tr>\n",
       "      <th>4</th>\n",
       "      <td>4</td>\n",
       "      <td>&lt;span class=\"title_subject\"&gt;핵쟁이 신고방법 및 신고하기&lt;/s...</td>\n",
       "      <td>https://support.deadbydaylight.com/hc/en-us/re...</td>\n",
       "    </tr>\n",
       "  </tbody>\n",
       "</table>\n",
       "</div>"
      ],
      "text/plain": [
       "   Unnamed: 0                                              Title  \\\n",
       "0           0  <span class=\"title_subject\">데바데 패치, 이벤트, 할인, 코...   \n",
       "1           1  <span class=\"title_subject\">데바데 마이너 갤러리 종합 정보 ...   \n",
       "2           2  <span class=\"title_subject\">데바데 마이너 갤러리 이용 가이드...   \n",
       "3           3  <span class=\"title_subject\">데망호 &amp; 블포작 디코 서...   \n",
       "4           4  <span class=\"title_subject\">핵쟁이 신고방법 및 신고하기</s...   \n",
       "\n",
       "                                             Article  \n",
       "0  ■ 새 소식개발자 업데이트 - 부정 행위 보고서 - 22.09.24 / 한 영(NE...  \n",
       "1  살인마퍽애드온생존자퍽아이템 & 애드온공물 정보생존자살인마공용플레이 팁글 모음기타 팁...  \n",
       "2  1. 광고, 거래글, 어그로, 분탕, 도배⦁ 어그로 및 분탕은 완장 주관 및 갤 상...  \n",
       "3                                 또는 링크(클릭)또는 링크(클릭)  \n",
       "4  https://support.deadbydaylight.com/hc/en-us/re...  "
      ]
     },
     "execution_count": 26,
     "metadata": {},
     "output_type": "execute_result"
    }
   ],
   "source": [
    "df = pd.read_excel('./result_220924_1149.xlsx', engine='openpyxl')\n",
    "df.head()"
   ]
  },
  {
   "cell_type": "code",
   "execution_count": 27,
   "metadata": {},
   "outputs": [
    {
     "data": {
      "text/plain": [
       "40"
      ]
     },
     "execution_count": 27,
     "metadata": {},
     "output_type": "execute_result"
    }
   ],
   "source": [
    "articles = df['Article'].tolist()\n",
    "len(articles)"
   ]
  },
  {
   "cell_type": "code",
   "execution_count": 28,
   "metadata": {},
   "outputs": [
    {
     "data": {
      "text/plain": [
       "'존나 재밌어 보이는데 ㅋㅋㅋㅋㅋㅋㅋㅋㅋㅋㅋㅋㅋㅋㅋㅋ '"
      ]
     },
     "execution_count": 28,
     "metadata": {},
     "output_type": "execute_result"
    }
   ],
   "source": [
    "articles[-1]"
   ]
  },
  {
   "cell_type": "code",
   "execution_count": null,
   "metadata": {},
   "outputs": [],
   "source": []
  }
 ],
 "metadata": {
  "kernelspec": {
   "display_name": "Python 3",
   "language": "python",
   "name": "python3"
  },
  "language_info": {
   "codemirror_mode": {
    "name": "ipython",
    "version": 3
   },
   "file_extension": ".py",
   "mimetype": "text/x-python",
   "name": "python",
   "nbconvert_exporter": "python",
   "pygments_lexer": "ipython3",
   "version": "3.7.4"
  }
 },
 "nbformat": 4,
 "nbformat_minor": 4
}
